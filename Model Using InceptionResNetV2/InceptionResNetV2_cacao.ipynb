{
  "nbformat": 4,
  "nbformat_minor": 0,
  "metadata": {
    "colab": {
      "provenance": []
    },
    "kernelspec": {
      "name": "python3",
      "display_name": "Python 3"
    },
    "language_info": {
      "name": "python"
    },
    "accelerator": "GPU",
    "gpuClass": "standard"
  },
  "cells": [
    {
      "cell_type": "markdown",
      "source": [
        "###### **Data Preparation**"
      ],
      "metadata": {
        "id": "akSqY5hqkF7V"
      }
    },
    {
      "cell_type": "code",
      "source": [
        "# Clears the directory containing the best model.\n",
        "shutil.rmtree('./best_models')\n",
        "os.mkdir(\"best_models\")"
      ],
      "metadata": {
        "id": "0ugDvPfSj7Pe"
      },
      "execution_count": null,
      "outputs": []
    },
    {
      "cell_type": "code",
      "source": [
        "# Import required modules\n",
        "from keras.preprocessing.image import ImageDataGenerator\n",
        "\n",
        "# Set hyperparameters\n",
        "epochs = 20   # number of epochs\n",
        "img_height, img_width = 224, 224    # image dimensions\n",
        "batch_size = 32   # batch size\n",
        "class_mode = \"sparse\"   # class mode\n",
        "\n",
        "# Create ImageDataGenerator objects for train and validation datasets\n",
        "train_gen = ImageDataGenerator(rotation_range=30, fill_mode='nearest',\n",
        "                               width_shift_range=0.2, height_shift_range=0.2,\n",
        "                               zoom_range=0.3, horizontal_flip=True)\n",
        "valid_gen = ImageDataGenerator()\n",
        "\n",
        "# Define paths for train and validation datasets\n",
        "train_path = \"./train_photos\"\n",
        "val_path = \"./val_photos\"\n",
        "\n",
        "# Create train and validation generators\n",
        "train_generator = train_gen.flow_from_directory(\n",
        "    train_path,\n",
        "    target_size=(img_height, img_width),\n",
        "    batch_size=batch_size,\n",
        "    shuffle=True,\n",
        "    class_mode=class_mode\n",
        ")\n",
        "\n",
        "val_generator = valid_gen.flow_from_directory(\n",
        "    val_path,\n",
        "    target_size=(img_height, img_width),\n",
        "    batch_size=batch_size,\n",
        "    class_mode=class_mode,\n",
        "    shuffle=False\n",
        ")\n"
      ],
      "metadata": {
        "id": "EYm40CzekhPt",
        "colab": {
          "base_uri": "https://localhost:8080/"
        },
        "outputId": "31eeca47-9801-4ecb-8ab7-2b14c0542c57"
      },
      "execution_count": null,
      "outputs": [
        {
          "output_type": "stream",
          "name": "stdout",
          "text": [
            "Found 3511 images belonging to 3 classes.\n",
            "Found 879 images belonging to 3 classes.\n"
          ]
        }
      ]
    },
    {
      "cell_type": "markdown",
      "source": [
        "The dataset was divided into training and validation sets, with the training set containing 3511 images and the validation set containing 879 images. Both sets include examples from all three classes. The validation set constitutes 20% of the entire dataset, while the training set takes up the remaining 80%. This split allows the model to be trained on a large majority of the data, while still having a separate set of examples to evaluate its performance on."
      ],
      "metadata": {
        "id": "E6ExYgTVb4t7"
      }
    },
    {
      "cell_type": "markdown",
      "source": [
        "###### **Model Building**"
      ],
      "metadata": {
        "id": "T8-S2IqaqX70"
      }
    },
    {
      "cell_type": "markdown",
      "source": [
        "The InceptionResNetV2 model architecture was chosen for training the data. This architecture is a variant of the Inception model, which has shown good performance on image classification tasks. In this case, the model was frozen, meaning that its weights were not updated during training, except for the last four layers, which were made trainable. This allowed the model to learn new features specific to the dataset at hand, while still leveraging the pre-trained weights. During training, the data was processed in batches of size 32. The activation function used was softmax, which maps the output of the model to probabilities for each class. The loss metric used to guide the optimization process was sparse categorical crossentropy, which is suitable for multi-class classification problems. The Adam optimizer was used to adjust the model's weights based on the loss. To measure the model's performance, the metric of interest was sparse categorical accuracy, which indicates the fraction of correctly classified examples. To ensure that the model's performance improved during training, a checkpoint was created to identify the model with the lowest validation loss and store it in a directory for later use. This allowed the model to be restored from the best state it reached during training, instead of using the final state, which may not necessarily be the best one."
      ],
      "metadata": {
        "id": "t8PLBxP3dChX"
      }
    },
    {
      "cell_type": "code",
      "source": [
        "from keras.layers import Input, Dense, Flatten, Rescaling, GlobalAveragePooling2D, Dropout\n",
        "from keras.models import Model\n",
        "from keras.applications.inception_resnet_v2 import InceptionResNetV2\n",
        "from keras.optimizers import Adam\n",
        "from keras.metrics import SparseCategoricalAccuracy\n",
        "\n",
        "#InceptionResNetV2 model\n",
        "incep_model = InceptionResNetV2(include_top=False,\n",
        "                                input_shape=train_generator.image_shape)\n",
        "# Freeze model\n",
        "incep_model.trainable = False\n",
        "\n",
        "# Set last four layers of InceptionResNetV2 model as trainable\n",
        "for layer in incep_model.layers[:-4]:\n",
        "    layer.trainable = True\n",
        "\n",
        "# Define input layer\n",
        "inputs = Input(shape=(224,224,3))\n",
        "\n",
        "# Define scaling layer\n",
        "scale_layer = Rescaling(scale=1./255, offset=-1)(inputs)\n",
        "\n",
        "# Apply InceptionResNetV2 model to scaling layer\n",
        "x = incep_model(scale_layer, training=False)\n",
        "\n",
        "# Define global average pooling layer\n",
        "x = GlobalAveragePooling2D()(x)\n",
        "\n",
        "# Define dropout layer\n",
        "x = Dropout(0.2)(x)\n",
        "\n",
        "# Define output layer\n",
        "outputs = Dense(3, activation=\"softmax\")(x)\n",
        "\n",
        "# Define model\n",
        "model = Model(inputs=inputs, outputs=outputs)\n",
        "\n",
        "# Compile model\n",
        "model.compile(loss='sparse_categorical_crossentropy', \n",
        "              optimizer=Adam(), \n",
        "              metrics=[SparseCategoricalAccuracy()])\n",
        "\n",
        "# Define checkpoint filepath\n",
        "checkpoint_filepath = './best_models/lowest_val_loss.h5'\n",
        "\n",
        "# Define checkpoint\n",
        "checkpoint = tf.keras.callbacks.ModelCheckpoint(filepath=checkpoint_filepath,\n",
        "                                                verbose=1,\n",
        "                                                monitor='val_loss',\n",
        "                                                save_best_only=True)\n",
        "\n",
        "# Print model summary\n",
        "model.summary()"
      ],
      "metadata": {
        "id": "kOG4CdWmmZit",
        "colab": {
          "base_uri": "https://localhost:8080/"
        },
        "outputId": "cbda54be-832c-4343-d396-acf45e8482cc"
      },
      "execution_count": null,
      "outputs": [
        {
          "output_type": "stream",
          "name": "stdout",
          "text": [
            "Downloading data from https://storage.googleapis.com/tensorflow/keras-applications/inception_resnet_v2/inception_resnet_v2_weights_tf_dim_ordering_tf_kernels_notop.h5\n",
            "219055592/219055592 [==============================] - 7s 0us/step\n",
            "Model: \"model\"\n",
            "_________________________________________________________________\n",
            " Layer (type)                Output Shape              Param #   \n",
            "=================================================================\n",
            " input_2 (InputLayer)        [(None, 224, 224, 3)]     0         \n",
            "                                                                 \n",
            " rescaling (Rescaling)       (None, 224, 224, 3)       0         \n",
            "                                                                 \n",
            " inception_resnet_v2 (Functi  (None, 5, 5, 1536)       54336736  \n",
            " onal)                                                           \n",
            "                                                                 \n",
            " global_average_pooling2d (G  (None, 1536)             0         \n",
            " lobalAveragePooling2D)                                          \n",
            "                                                                 \n",
            " dropout (Dropout)           (None, 1536)              0         \n",
            "                                                                 \n",
            " dense (Dense)               (None, 3)                 4611      \n",
            "                                                                 \n",
            "=================================================================\n",
            "Total params: 54,341,347\n",
            "Trainable params: 4,611\n",
            "Non-trainable params: 54,336,736\n",
            "_________________________________________________________________\n"
          ]
        }
      ]
    },
    {
      "cell_type": "markdown",
      "source": [
        "To avoid overfitting, an early stopping mechanism was used when fitting the model. This technique allows the training process to be interrupted if the model does not show any improvement on the validation set for a certain number of consecutive epochs."
      ],
      "metadata": {
        "id": "T5bfudXienLf"
      }
    },
    {
      "cell_type": "code",
      "source": [
        "from tensorflow.keras.callbacks import EarlyStopping\n",
        "\n",
        "# Define early stopping callback\n",
        "early_stopping = EarlyStopping(monitor='val_loss',\n",
        "                               patience=2, \n",
        "                               mode='auto')\n",
        "# Fit model\n",
        "model_history = model.fit(train_generator, \n",
        "                          epochs=epochs, \n",
        "                          callbacks=[early_stopping,checkpoint],\n",
        "                          validation_data=val_generator)"
      ],
      "metadata": {
        "id": "RkwlHgVjptUF",
        "colab": {
          "base_uri": "https://localhost:8080/"
        },
        "outputId": "4abab681-73f4-4679-ca52-6cc51c11374a"
      },
      "execution_count": null,
      "outputs": [
        {
          "output_type": "stream",
          "name": "stdout",
          "text": [
            "Epoch 1/20\n",
            "110/110 [==============================] - ETA: 0s - loss: 0.6164 - sparse_categorical_accuracy: 0.7801\n",
            "Epoch 1: val_loss improved from inf to 0.39722, saving model to ./best_models/lowest_val_loss.h5\n",
            "110/110 [==============================] - 169s 1s/step - loss: 0.6164 - sparse_categorical_accuracy: 0.7801 - val_loss: 0.3972 - val_sparse_categorical_accuracy: 0.8419\n",
            "Epoch 2/20\n",
            "110/110 [==============================] - ETA: 0s - loss: 0.4955 - sparse_categorical_accuracy: 0.8092\n",
            "Epoch 2: val_loss improved from 0.39722 to 0.39059, saving model to ./best_models/lowest_val_loss.h5\n",
            "110/110 [==============================] - 141s 1s/step - loss: 0.4955 - sparse_categorical_accuracy: 0.8092 - val_loss: 0.3906 - val_sparse_categorical_accuracy: 0.8510\n",
            "Epoch 3/20\n",
            "110/110 [==============================] - ETA: 0s - loss: 0.4422 - sparse_categorical_accuracy: 0.8317\n",
            "Epoch 3: val_loss improved from 0.39059 to 0.33013, saving model to ./best_models/lowest_val_loss.h5\n",
            "110/110 [==============================] - 145s 1s/step - loss: 0.4422 - sparse_categorical_accuracy: 0.8317 - val_loss: 0.3301 - val_sparse_categorical_accuracy: 0.8805\n",
            "Epoch 4/20\n",
            "110/110 [==============================] - ETA: 0s - loss: 0.4174 - sparse_categorical_accuracy: 0.8354\n",
            "Epoch 4: val_loss did not improve from 0.33013\n",
            "110/110 [==============================] - 139s 1s/step - loss: 0.4174 - sparse_categorical_accuracy: 0.8354 - val_loss: 0.3456 - val_sparse_categorical_accuracy: 0.8726\n",
            "Epoch 5/20\n",
            "110/110 [==============================] - ETA: 0s - loss: 0.4164 - sparse_categorical_accuracy: 0.8439\n",
            "Epoch 5: val_loss improved from 0.33013 to 0.31321, saving model to ./best_models/lowest_val_loss.h5\n",
            "110/110 [==============================] - 144s 1s/step - loss: 0.4164 - sparse_categorical_accuracy: 0.8439 - val_loss: 0.3132 - val_sparse_categorical_accuracy: 0.8794\n",
            "Epoch 6/20\n",
            "110/110 [==============================] - ETA: 0s - loss: 0.4011 - sparse_categorical_accuracy: 0.8479\n",
            "Epoch 6: val_loss did not improve from 0.31321\n",
            "110/110 [==============================] - 140s 1s/step - loss: 0.4011 - sparse_categorical_accuracy: 0.8479 - val_loss: 0.3190 - val_sparse_categorical_accuracy: 0.8783\n",
            "Epoch 7/20\n",
            "110/110 [==============================] - ETA: 0s - loss: 0.3643 - sparse_categorical_accuracy: 0.8573\n",
            "Epoch 7: val_loss improved from 0.31321 to 0.29405, saving model to ./best_models/lowest_val_loss.h5\n",
            "110/110 [==============================] - 142s 1s/step - loss: 0.3643 - sparse_categorical_accuracy: 0.8573 - val_loss: 0.2940 - val_sparse_categorical_accuracy: 0.8851\n",
            "Epoch 8/20\n",
            "110/110 [==============================] - ETA: 0s - loss: 0.3765 - sparse_categorical_accuracy: 0.8550\n",
            "Epoch 8: val_loss did not improve from 0.29405\n",
            "110/110 [==============================] - 142s 1s/step - loss: 0.3765 - sparse_categorical_accuracy: 0.8550 - val_loss: 0.3103 - val_sparse_categorical_accuracy: 0.8862\n",
            "Epoch 9/20\n",
            "110/110 [==============================] - ETA: 0s - loss: 0.4174 - sparse_categorical_accuracy: 0.8340\n",
            "Epoch 9: val_loss improved from 0.29405 to 0.29362, saving model to ./best_models/lowest_val_loss.h5\n",
            "110/110 [==============================] - 141s 1s/step - loss: 0.4174 - sparse_categorical_accuracy: 0.8340 - val_loss: 0.2936 - val_sparse_categorical_accuracy: 0.8817\n",
            "Epoch 10/20\n",
            "110/110 [==============================] - ETA: 0s - loss: 0.3556 - sparse_categorical_accuracy: 0.8681\n",
            "Epoch 10: val_loss did not improve from 0.29362\n",
            "110/110 [==============================] - 142s 1s/step - loss: 0.3556 - sparse_categorical_accuracy: 0.8681 - val_loss: 0.3211 - val_sparse_categorical_accuracy: 0.8783\n",
            "Epoch 11/20\n",
            "110/110 [==============================] - ETA: 0s - loss: 0.3640 - sparse_categorical_accuracy: 0.8604\n",
            "Epoch 11: val_loss did not improve from 0.29362\n",
            "110/110 [==============================] - 139s 1s/step - loss: 0.3640 - sparse_categorical_accuracy: 0.8604 - val_loss: 0.2959 - val_sparse_categorical_accuracy: 0.8942\n"
          ]
        }
      ]
    },
    {
      "cell_type": "markdown",
      "source": [
        "###### **Data Visualization**"
      ],
      "metadata": {
        "id": "y8z0toAWq3h0"
      }
    },
    {
      "cell_type": "code",
      "source": [
        "# Import required modules\n",
        "import numpy as np\n",
        "import matplotlib.pyplot as plt\n",
        "import seaborn as sns\n",
        "\n",
        "# Create figure with subplots\n",
        "fig, (ax1, ax2) = plt.subplots(1, 2, figsize=(10, 5))\n",
        "\n",
        "# Plot model accuracy on first subplot\n",
        "ax1.plot(model_history.history['sparse_categorical_accuracy'])\n",
        "ax1.plot(model_history.history['val_sparse_categorical_accuracy'])\n",
        "ax1.set_title('Accuracy')\n",
        "ax1.set_ylabel('accuracy')\n",
        "ax1.set_xlabel('epoch')\n",
        "ax1.legend(['Training', 'Validation'], loc='lower right')\n",
        "\n",
        "# Plot model loss on second subplot\n",
        "ax2.plot(model_history.history['loss'])\n",
        "ax2.plot(model_history.history['val_loss'])\n",
        "ax2.set_title('Loss')\n",
        "ax2.set_ylabel('loss')\n",
        "ax2.set_xlabel('epoch')\n",
        "ax2.legend(['Training', 'Validation'], loc='lower right')\n",
        "\n",
        "# Show plots\n",
        "plt.show()"
      ],
      "metadata": {
        "id": "3UJejnBwqvlE",
        "colab": {
          "base_uri": "https://localhost:8080/",
          "height": 350
        },
        "outputId": "29add6dc-8536-4561-bc7c-fe67f7909c7a"
      },
      "execution_count": null,
      "outputs": [
        {
          "output_type": "display_data",
          "data": {
            "text/plain": [
              "<Figure size 720x360 with 2 Axes>"
            ],
            "image/png": "[encoded data removed]"
          },
          "metadata": {
            "needs_background": "light"
          }
        }
      ]
    },
    {
      "cell_type": "markdown",
      "source": [
        "The training process was monitored using graphs that showed the model's accuracy and loss over time. As can be seen in the graph, both metrics increased in the first few epochs, indicating that the model was learning and making progress. However, at some point, there was a dip in both the accuracy and loss, where the model's performance temporarily decreased. Both metrics increased again after the dip, suggesting that the model recovered and continued to learn indicating that the chosen model architecture and training hyperparameters are suitable for the task at hand."
      ],
      "metadata": {
        "id": "zUFY5YICfC13"
      }
    },
    {
      "cell_type": "markdown",
      "source": [
        "###### **Metrics**"
      ],
      "metadata": {
        "id": "Q6CD5VY-q8_7"
      }
    },
    {
      "cell_type": "code",
      "source": [
        "best_model = tf.keras.models.load_model(\"./best_models/lowest_val_loss.h5\")\n",
        "predictions = best_model.predict(val_generator)"
      ],
      "metadata": {
        "id": "ARXJBwyiqxRr",
        "colab": {
          "base_uri": "https://localhost:8080/"
        },
        "outputId": "78204086-f99b-46b9-dd7b-a5eb3999f419"
      },
      "execution_count": null,
      "outputs": [
        {
          "output_type": "stream",
          "name": "stderr",
          "text": [
            "WARNING:tensorflow:Error in loading the saved optimizer state. As a result, your model is starting with a freshly initialized optimizer.\n"
          ]
        },
        {
          "output_type": "stream",
          "name": "stdout",
          "text": [
            "28/28 [==============================] - 25s 807ms/step\n"
          ]
        }
      ]
    },
    {
      "cell_type": "code",
      "source": [
        "from sklearn.metrics import confusion_matrix, classification_report\n",
        "\n",
        "# Compute confusion matrix for validation set\n",
        "confusion = confusion_matrix(val_generator.classes,\n",
        "                          np.argmax(predictions, axis=1))\n",
        "\n",
        "# Define labels for confusion matrix\n",
        "labels = ['black pod rot', 'healthy', 'pod borer']\n",
        "\n",
        "# Plot confusion matrix for validation set\n",
        "plt.title(\"Confusion Matrix\", fontsize =20)\n",
        "axis = sns.heatmap(confusion,\n",
        "                     cmap=\"Greens\",\n",
        "                     annot=True,\n",
        "                     xticklabels=labels,\n",
        "                     yticklabels=labels,\n",
        "                     fmt=\"d\")"
      ],
      "metadata": {
        "id": "JoWWz9O_rpjh",
        "colab": {
          "base_uri": "https://localhost:8080/",
          "height": 286
        },
        "outputId": "d60695ae-6346-429f-ca6e-e90827c428a0"
      },
      "execution_count": null,
      "outputs": [
        {
          "output_type": "display_data",
          "data": {
            "text/plain": [
              "<Figure size 432x288 with 2 Axes>"
            ],
            "image/png": "[encoded data removed]"
          },
          "metadata": {
            "needs_background": "light"
          }
        }
      ]
    },
    {
      "cell_type": "markdown",
      "source": [
        "The model's performance on the validation set was analyzed using a heatmap that showed the distribution of correct and incorrect predictions for each class. As can be seen in the heatmap, the model made the least number of wrong predictions for the healthy class, indicating that it was able to correctly classify most examples from this class. On the other hand, the black pod rot and pod borer class showed a large number of wrong predictions, indicating that the model struggled to correctly classify examples from this class."
      ],
      "metadata": {
        "id": "yj1b6yA8f53G"
      }
    },
    {
      "cell_type": "code",
      "source": [
        "pred_classes = np.argmax(predictions, axis=1)\n",
        "classes = val_generator.classes\n",
        "print(classification_report(classes, pred_classes, target_names=labels))"
      ],
      "metadata": {
        "id": "xzk1Qu4jr7H8",
        "colab": {
          "base_uri": "https://localhost:8080/"
        },
        "outputId": "6da810ce-b67c-4eb4-c03a-739aec2d947e"
      },
      "execution_count": null,
      "outputs": [
        {
          "output_type": "stream",
          "name": "stdout",
          "text": [
            "               precision    recall  f1-score   support\n",
            "\n",
            "black pod rot       0.79      0.69      0.74       189\n",
            "      healthy       0.91      0.95      0.93       669\n",
            "    pod borer       0.53      0.43      0.47        21\n",
            "\n",
            "     accuracy                           0.88       879\n",
            "    macro avg       0.74      0.69      0.71       879\n",
            " weighted avg       0.88      0.88      0.88       879\n",
            "\n"
          ]
        }
      ]
    },
    {
      "cell_type": "markdown",
      "source": [
        "As can be seen in the results, the healthy class had the highest precision, followed by the black pod rot and pod borer classes. This indicates that the model was able to correctly predict 91% of the healthy examples, 79% of the black pod rot examples, and 53% of the pod borer examples. In other words, the model was relatively confident in its predictions for the healthy class, but less so for the other two classes. This could be due to the inherent difficulty of the task, the quality of the training data, or the limitations of the chosen model architecture."
      ],
      "metadata": {
        "id": "b3XdVydqf-PP"
      }
    }
  ]
}