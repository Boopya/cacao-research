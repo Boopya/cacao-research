{
 "cells": [
  {
   "attachments": {},
   "cell_type": "markdown",
   "metadata": {},
   "source": [
    "# Cacao Datasets Data Cleaning Process\n",
    "\n",
    "In this data cleaning process our team decided to balance the dataset counts for each classes."
   ]
  },
  {
   "cell_type": "code",
   "execution_count": 16,
   "metadata": {},
   "outputs": [],
   "source": [
    "from tensorflow.keras.utils import image_dataset_from_directory\n",
    "from random import sample\n",
    "import os"
   ]
  },
  {
   "attachments": {},
   "cell_type": "markdown",
   "metadata": {},
   "source": [
    "## Data Description"
   ]
  },
  {
   "cell_type": "code",
   "execution_count": 6,
   "metadata": {},
   "outputs": [
    {
     "name": "stdout",
     "output_type": "stream",
     "text": [
      "Found 4390 files belonging to 3 classes.\n"
     ]
    }
   ],
   "source": [
    "data_dir = image_dataset_from_directory(\n",
    "    'cacao_photos/',\n",
    "    label_mode='int')\n"
   ]
  },
  {
   "cell_type": "code",
   "execution_count": 7,
   "metadata": {},
   "outputs": [
    {
     "name": "stdout",
     "output_type": "stream",
     "text": [
      "black_pod_rot : 943\n",
      "healthy : 3344\n",
      "pod_borer : 103\n"
     ]
    },
    {
     "data": {
      "text/plain": [
       "943"
      ]
     },
     "execution_count": 7,
     "metadata": {},
     "output_type": "execute_result"
    }
   ],
   "source": [
    "class_names = data_dir.class_names\n",
    "\n",
    "def count_data_per_class() -> None:\n",
    "    for class_name in class_names:\n",
    "        print(class_name, \":\", len(os.listdir(\"cacao_photos/\"+class_name)))\n",
    "\n",
    "def get_class_count(class_name:str) -> int:\n",
    "\n",
    "    if class_name in class_names:\n",
    "        return len(os.listdir(\"cacao_photos/\"+class_name))\n",
    "    else:\n",
    "        return 0\n",
    "\n",
    "count_data_per_class()\n",
    "get_class_count('black_pod_rot')"
   ]
  },
  {
   "attachments": {},
   "cell_type": "markdown",
   "metadata": {},
   "source": [
    "As the results above shows unbalance count of images per dataset. Therefore our team decided to *decrease the number of images under healthy class* down to the number of black_pod_rot class and *increase the number of images under pod_borer up to 943* using **Data Aumentation process**."
   ]
  },
  {
   "cell_type": "code",
   "execution_count": 10,
   "metadata": {},
   "outputs": [],
   "source": [
    "healthy_path = \"cacao_photos/healthy\"\n",
    "healthy = os.listdir(healthy_path)\n",
    "for file in sample(healthy,(get_class_count('healthy')-get_class_count('black_pod_rot'))):\n",
    "    os.remove(healthy_path+\"/\"+file)"
   ]
  },
  {
   "attachments": {},
   "cell_type": "markdown",
   "metadata": {},
   "source": [
    "Reduce Healthy images count from 3334 to 943"
   ]
  },
  {
   "cell_type": "code",
   "execution_count": 13,
   "metadata": {},
   "outputs": [
    {
     "name": "stdout",
     "output_type": "stream",
     "text": [
      "black_pod_rot : 943\n",
      "healthy : 943\n",
      "pod_borer : 103\n"
     ]
    }
   ],
   "source": [
    "\n",
    "count_data_per_class()"
   ]
  },
  {
   "attachments": {},
   "cell_type": "markdown",
   "metadata": {},
   "source": [
    "Augment pod_borer dataset to increase count from 103 to 943"
   ]
  },
  {
   "cell_type": "code",
   "execution_count": 14,
   "metadata": {},
   "outputs": [
    {
     "name": "stdout",
     "output_type": "stream",
     "text": [
      "Initialised with 103 image(s) found.\n",
      "Output directory set to cacao_photos/pod_borer\\cacao_photos/pod_borer/../../."
     ]
    },
    {
     "name": "stderr",
     "output_type": "stream",
     "text": [
      "Processing <PIL.Image.Image image mode=RGB size=1080x1080 at 0x20D9F7520B0>: 100%|██████████| 840/840 [00:56<00:00, 14.78 Samples/s]                  \n"
     ]
    }
   ],
   "source": [
    "import Augmentor\n",
    "\n",
    "pod_borer_augmentation_pipeline = Augmentor.Pipeline(source_directory=\"cacao_photos/pod_borer\",\n",
    "                                                    output_directory=\"cacao_photos/pod_borer/../../\")\n",
    "\n",
    "pod_borer_augmentation_pipeline.rotate(probability=0.6, max_left_rotation=10, max_right_rotation=10)\n",
    "pod_borer_augmentation_pipeline.skew_top_bottom(0.3, 0.7)\n",
    "pod_borer_augmentation_pipeline.skew_left_right(0.3, 0.7)\n",
    "pod_borer_augmentation_pipeline.flip_random(0.3)\n",
    "\n",
    "\n",
    "pod_borer_augmentation_pipeline.sample(get_class_count('black_pod_rot') - get_class_count('pod_borer'))"
   ]
  },
  {
   "attachments": {},
   "cell_type": "markdown",
   "metadata": {},
   "source": [
    "Check dataset count if it is now balance."
   ]
  },
  {
   "cell_type": "code",
   "execution_count": 15,
   "metadata": {},
   "outputs": [
    {
     "name": "stdout",
     "output_type": "stream",
     "text": [
      "black_pod_rot : 943\n",
      "healthy : 943\n",
      "pod_borer : 943\n"
     ]
    }
   ],
   "source": [
    "\n",
    "count_data_per_class()"
   ]
  }
 ],
 "metadata": {
  "kernelspec": {
   "display_name": "elcute",
   "language": "python",
   "name": "python3"
  },
  "language_info": {
   "codemirror_mode": {
    "name": "ipython",
    "version": 3
   },
   "file_extension": ".py",
   "mimetype": "text/x-python",
   "name": "python",
   "nbconvert_exporter": "python",
   "pygments_lexer": "ipython3",
   "version": "3.10.0"
  },
  "orig_nbformat": 4,
  "vscode": {
   "interpreter": {
    "hash": "e83ef66fda716de713e8358b8db930ad68c44b5bd96a3ea8055ed0776844cad7"
   }
  }
 },
 "nbformat": 4,
 "nbformat_minor": 2
}
