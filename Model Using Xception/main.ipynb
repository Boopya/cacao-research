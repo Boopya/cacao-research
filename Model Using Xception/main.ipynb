{
 "cells": [
  {
   "cell_type": "code",
   "execution_count": 30,
   "metadata": {},
   "outputs": [],
   "source": [
    "# Import necessary libraries\n",
    "import os\n",
    "import math\n",
    "import tensorflow as tf\n",
    "import seaborn as sns\n",
    "import shutil\n",
    "import numpy as np\n",
    "import matplotlib.pyplot as plt\n",
    "\n",
    "from distutils.dir_util import copy_tree\n",
    "from random import sample\n",
    "from sklearn.metrics import confusion_matrix, classification_report"
   ]
  },
  {
   "attachments": {},
   "cell_type": "markdown",
   "metadata": {},
   "source": [
    "Create various directories for model building."
   ]
  },
  {
   "cell_type": "code",
   "execution_count": 12,
   "metadata": {},
   "outputs": [],
   "source": [
    "os.mkdir(\"../train\")\n",
    "os.mkdir(\"../val\")\n",
    "os.mkdir(\"best_models\")"
   ]
  },
  {
   "attachments": {},
   "cell_type": "markdown",
   "metadata": {},
   "source": [
    "Assign some paths into a variable."
   ]
  },
  {
   "cell_type": "code",
   "execution_count": 16,
   "metadata": {},
   "outputs": [],
   "source": [
    "dataset_path = \"../cacao_photos\"\n",
    "images_path = \"../train\""
   ]
  },
  {
   "attachments": {},
   "cell_type": "markdown",
   "metadata": {},
   "source": [
    "Copy the dataset into the train directory."
   ]
  },
  {
   "cell_type": "code",
   "execution_count": null,
   "metadata": {},
   "outputs": [],
   "source": [
    "copy_tree(dataset_path, images_path)"
   ]
  },
  {
   "attachments": {},
   "cell_type": "markdown",
   "metadata": {},
   "source": [
    "Create validation folder for each class."
   ]
  },
  {
   "cell_type": "code",
   "execution_count": 17,
   "metadata": {},
   "outputs": [],
   "source": [
    "os.mkdir(\"../val/black_pod_rot\")\n",
    "os.mkdir(\"../val/healthy\")\n",
    "os.mkdir(\"../val/pod_borer\")"
   ]
  },
  {
   "attachments": {},
   "cell_type": "markdown",
   "metadata": {},
   "source": [
    "Create a function that moves the specified number of files from lake_path to processed_path."
   ]
  },
  {
   "cell_type": "code",
   "execution_count": 20,
   "metadata": {},
   "outputs": [],
   "source": [
    "def move_num_of_files(count, lake_path, processed_path, count_end):\n",
    "    try:\n",
    "        images = os.listdir(lake_path)\n",
    "        for file in images:\n",
    "            if count < count_end:\n",
    "                path = f\"{lake_path}/{file}\"\n",
    "                shutil.move(path, processed_path)\n",
    "                count += 1\n",
    "    except Exception as e:\n",
    "        print(e)"
   ]
  },
  {
   "attachments": {},
   "cell_type": "markdown",
   "metadata": {},
   "source": [
    "Move 20% of each class into val directory."
   ]
  },
  {
   "cell_type": "code",
   "execution_count": 22,
   "metadata": {},
   "outputs": [],
   "source": [
    "black_pod_20 = math.ceil(len(os.listdir(images_path+\"/black_pod_rot\")) * 0.20)\n",
    "healthy_20 = math.ceil(len(os.listdir(images_path+\"/healthy\")) * 0.20)\n",
    "pod_borer_20 = math.ceil(len(images_path+\"/pod_borer\") * 0.20)\n",
    "\n",
    "move_num_of_files(0, images_path+\"/black_pod_rot\", \"../val/black_pod_rot/\", black_pod_20)\n",
    "move_num_of_files(0, images_path+\"/healthy\", \"../val/healthy/\", healthy_20)\n",
    "move_num_of_files(0, images_path+\"/pod_borer\", \"../val/pod_borer/\", pod_borer_20)"
   ]
  },
  {
   "attachments": {},
   "cell_type": "markdown",
   "metadata": {},
   "source": [
    "# Data Preparation"
   ]
  },
  {
   "cell_type": "code",
   "execution_count": 2,
   "metadata": {},
   "outputs": [],
   "source": [
    "# Hyperparameters\n",
    "\n",
    "batch_size = 10\n",
    "img_height = 224\n",
    "img_width = 224\n",
    "class_mode = \"sparse\"\n",
    "epochs = 20"
   ]
  },
  {
   "cell_type": "code",
   "execution_count": 3,
   "metadata": {},
   "outputs": [],
   "source": [
    "train_path = \"../train\"\n",
    "val_path = \"../val\""
   ]
  },
  {
   "attachments": {},
   "cell_type": "markdown",
   "metadata": {},
   "source": [
    "Create training and validation sets."
   ]
  },
  {
   "cell_type": "code",
   "execution_count": 4,
   "metadata": {},
   "outputs": [
    {
     "name": "stdout",
     "output_type": "stream",
     "text": [
      "Found 2262 files belonging to 3 classes.\n",
      "Metal device set to: Apple M1\n",
      "\n",
      "systemMemory: 16.00 GB\n",
      "maxCacheSize: 5.33 GB\n",
      "\n",
      "Found 879 files belonging to 3 classes.\n"
     ]
    },
    {
     "name": "stderr",
     "output_type": "stream",
     "text": [
      "2022-12-14 23:09:28.951534: I tensorflow/core/common_runtime/pluggable_device/pluggable_device_factory.cc:305] Could not identify NUMA node of platform GPU ID 0, defaulting to 0. Your kernel may not have been built with NUMA support.\n",
      "2022-12-14 23:09:28.951900: I tensorflow/core/common_runtime/pluggable_device/pluggable_device_factory.cc:271] Created TensorFlow device (/job:localhost/replica:0/task:0/device:GPU:0 with 0 MB memory) -> physical PluggableDevice (device: 0, name: METAL, pci bus id: <undefined>)\n"
     ]
    }
   ],
   "source": [
    "train = tf.keras.utils.image_dataset_from_directory(\n",
    "    train_path,\n",
    "    batch_size=batch_size,\n",
    "    image_size=(img_height, img_width),\n",
    "    seed=42,\n",
    ")\n",
    "\n",
    "val = tf.keras.utils.image_dataset_from_directory(\n",
    "    val_path,\n",
    "    batch_size=batch_size,\n",
    "    image_size=(img_height, img_width),\n",
    "    seed=42,\n",
    "    shuffle=False\n",
    ")"
   ]
  },
  {
   "attachments": {},
   "cell_type": "markdown",
   "metadata": {},
   "source": [
    "# Model Building"
   ]
  },
  {
   "cell_type": "code",
   "execution_count": 7,
   "metadata": {},
   "outputs": [],
   "source": [
    "def get_run_logdir():\n",
    "    import time\n",
    "    run_id = time.strftime(\"run_%Y_%m_%d-%H-%M-%S\")\n",
    "    return os.path.join(\"./logs\", run_id)"
   ]
  },
  {
   "cell_type": "code",
   "execution_count": 38,
   "metadata": {},
   "outputs": [
    {
     "name": "stdout",
     "output_type": "stream",
     "text": [
      "Model: \"model_4\"\n",
      "_________________________________________________________________\n",
      " Layer (type)                Output Shape              Param #   \n",
      "=================================================================\n",
      " input_11 (InputLayer)       [(None, 224, 224, 3)]     0         \n",
      "                                                                 \n",
      " rescaling_4 (Rescaling)     (None, 224, 224, 3)       0         \n",
      "                                                                 \n",
      " xception (Functional)       (None, 7, 7, 2048)        20861480  \n",
      "                                                                 \n",
      " global_average_pooling2d_4   (None, 2048)             0         \n",
      " (GlobalAveragePooling2D)                                        \n",
      "                                                                 \n",
      " dropout_4 (Dropout)         (None, 2048)              0         \n",
      "                                                                 \n",
      " dense_4 (Dense)             (None, 3)                 6147      \n",
      "                                                                 \n",
      "=================================================================\n",
      "Total params: 20,867,627\n",
      "Trainable params: 6,147\n",
      "Non-trainable params: 20,861,480\n",
      "_________________________________________________________________\n"
     ]
    }
   ],
   "source": [
    "base_model = tf.keras.applications.Xception(\n",
    "    include_top=False,\n",
    "    input_shape=(224, 224, 3)\n",
    ")\n",
    "\n",
    "# Freeze the base model\n",
    "base_model.trainable = False\n",
    "for layer in base_model.layers:\n",
    "    if not isinstance(layer, tf.keras.layers.BatchNormalization):\n",
    "        layer.trainable = True\n",
    "\n",
    "inputs = tf.keras.layers.Input(shape=(224, 224, 3))\n",
    "scale_layer = tf.keras.layers.Rescaling(scale=1/255.)(inputs)\n",
    "x = base_model(scale_layer, training=False)\n",
    "x = tf.keras.layers.GlobalAveragePooling2D()(x)\n",
    "x = tf.keras.layers.Dropout(0.2)(x)\n",
    "outputs = tf.keras.layers.Dense(3, activation=\"softmax\")(x)\n",
    "\n",
    "model = tf.keras.Model(inputs=inputs, outputs=outputs)\n",
    "\n",
    "model.compile(loss=\"sparse_categorical_crossentropy\",\n",
    "                      optimizer=tf.keras.optimizers.Adam(),\n",
    "                      metrics=[tf.metrics.SparseCategoricalAccuracy()]\n",
    "                      )\n",
    "\n",
    "# Callbacks\n",
    "checkpoint_filepath = \"./best_models/lowest_val_loss.h5\"\n",
    "checkpoint = tf.keras.callbacks.ModelCheckpoint(filepath=checkpoint_filepath,\n",
    "                                                verbose=1,\n",
    "                                                save_best_only=True,\n",
    "                                                )\n",
    "\n",
    "tensorboard = tf.keras.callbacks.TensorBoard(get_run_logdir())\n",
    "\n",
    "# Display model summary\n",
    "model.summary()"
   ]
  },
  {
   "cell_type": "code",
   "execution_count": 39,
   "metadata": {},
   "outputs": [
    {
     "name": "stdout",
     "output_type": "stream",
     "text": [
      "Epoch 1/20\n"
     ]
    },
    {
     "name": "stderr",
     "output_type": "stream",
     "text": [
      "2022-12-15 00:44:01.328515: I tensorflow/core/grappler/optimizers/custom_graph_optimizer_registry.cc:113] Plugin optimizer for device_type GPU is enabled.\n"
     ]
    },
    {
     "name": "stdout",
     "output_type": "stream",
     "text": [
      "227/227 [==============================] - ETA: 0s - loss: 0.6291 - sparse_categorical_accuracy: 0.7352"
     ]
    },
    {
     "name": "stderr",
     "output_type": "stream",
     "text": [
      "2022-12-15 00:44:39.909450: I tensorflow/core/grappler/optimizers/custom_graph_optimizer_registry.cc:113] Plugin optimizer for device_type GPU is enabled.\n"
     ]
    },
    {
     "name": "stdout",
     "output_type": "stream",
     "text": [
      "\n",
      "Epoch 1: val_loss improved from inf to 0.48596, saving model to ./best_models/lowest_val_loss.h5\n",
      "227/227 [==============================] - 55s 231ms/step - loss: 0.6291 - sparse_categorical_accuracy: 0.7352 - val_loss: 0.4860 - val_sparse_categorical_accuracy: 0.8020\n",
      "Epoch 2/20\n",
      "227/227 [==============================] - ETA: 0s - loss: 0.4350 - sparse_categorical_accuracy: 0.8263\n",
      "Epoch 2: val_loss improved from 0.48596 to 0.41645, saving model to ./best_models/lowest_val_loss.h5\n",
      "227/227 [==============================] - 53s 231ms/step - loss: 0.4350 - sparse_categorical_accuracy: 0.8263 - val_loss: 0.4165 - val_sparse_categorical_accuracy: 0.8350\n",
      "Epoch 3/20\n",
      "227/227 [==============================] - ETA: 0s - loss: 0.3530 - sparse_categorical_accuracy: 0.8678\n",
      "Epoch 3: val_loss did not improve from 0.41645\n",
      "227/227 [==============================] - 54s 237ms/step - loss: 0.3530 - sparse_categorical_accuracy: 0.8678 - val_loss: 0.4768 - val_sparse_categorical_accuracy: 0.8055\n",
      "Epoch 4/20\n",
      "227/227 [==============================] - ETA: 0s - loss: 0.3233 - sparse_categorical_accuracy: 0.8771\n",
      "Epoch 4: val_loss improved from 0.41645 to 0.39499, saving model to ./best_models/lowest_val_loss.h5\n",
      "227/227 [==============================] - 56s 245ms/step - loss: 0.3233 - sparse_categorical_accuracy: 0.8771 - val_loss: 0.3950 - val_sparse_categorical_accuracy: 0.8328\n",
      "Epoch 5/20\n",
      "227/227 [==============================] - ETA: 0s - loss: 0.2868 - sparse_categorical_accuracy: 0.8952\n",
      "Epoch 5: val_loss improved from 0.39499 to 0.37345, saving model to ./best_models/lowest_val_loss.h5\n",
      "227/227 [==============================] - 57s 248ms/step - loss: 0.2868 - sparse_categorical_accuracy: 0.8952 - val_loss: 0.3735 - val_sparse_categorical_accuracy: 0.8555\n",
      "Epoch 6/20\n",
      "227/227 [==============================] - ETA: 0s - loss: 0.2615 - sparse_categorical_accuracy: 0.9032\n",
      "Epoch 6: val_loss improved from 0.37345 to 0.36634, saving model to ./best_models/lowest_val_loss.h5\n",
      "227/227 [==============================] - 57s 252ms/step - loss: 0.2615 - sparse_categorical_accuracy: 0.9032 - val_loss: 0.3663 - val_sparse_categorical_accuracy: 0.8532\n",
      "Epoch 7/20\n",
      "227/227 [==============================] - ETA: 0s - loss: 0.2453 - sparse_categorical_accuracy: 0.9098\n",
      "Epoch 7: val_loss did not improve from 0.36634\n",
      "227/227 [==============================] - 59s 258ms/step - loss: 0.2453 - sparse_categorical_accuracy: 0.9098 - val_loss: 0.3798 - val_sparse_categorical_accuracy: 0.8430\n",
      "Epoch 8/20\n",
      "227/227 [==============================] - ETA: 0s - loss: 0.2256 - sparse_categorical_accuracy: 0.9222\n",
      "Epoch 8: val_loss did not improve from 0.36634\n",
      "227/227 [==============================] - 61s 269ms/step - loss: 0.2256 - sparse_categorical_accuracy: 0.9222 - val_loss: 0.3729 - val_sparse_categorical_accuracy: 0.8567\n",
      "Epoch 9/20\n",
      "227/227 [==============================] - ETA: 0s - loss: 0.2184 - sparse_categorical_accuracy: 0.9195\n",
      "Epoch 9: val_loss did not improve from 0.36634\n",
      "227/227 [==============================] - 62s 271ms/step - loss: 0.2184 - sparse_categorical_accuracy: 0.9195 - val_loss: 0.4276 - val_sparse_categorical_accuracy: 0.8203\n",
      "Epoch 10/20\n",
      "227/227 [==============================] - ETA: 0s - loss: 0.2044 - sparse_categorical_accuracy: 0.9319\n",
      "Epoch 10: val_loss did not improve from 0.36634\n",
      "227/227 [==============================] - 62s 271ms/step - loss: 0.2044 - sparse_categorical_accuracy: 0.9319 - val_loss: 0.4203 - val_sparse_categorical_accuracy: 0.8237\n",
      "Epoch 11/20\n",
      "227/227 [==============================] - ETA: 0s - loss: 0.1985 - sparse_categorical_accuracy: 0.9319\n",
      "Epoch 11: val_loss did not improve from 0.36634\n",
      "227/227 [==============================] - 62s 272ms/step - loss: 0.1985 - sparse_categorical_accuracy: 0.9319 - val_loss: 0.3677 - val_sparse_categorical_accuracy: 0.8510\n",
      "Epoch 12/20\n",
      "226/227 [============================>.] - ETA: 0s - loss: 0.1817 - sparse_categorical_accuracy: 0.9367\n",
      "Epoch 12: val_loss did not improve from 0.36634\n",
      "227/227 [==============================] - 62s 271ms/step - loss: 0.1817 - sparse_categorical_accuracy: 0.9368 - val_loss: 0.3803 - val_sparse_categorical_accuracy: 0.8441\n",
      "Epoch 13/20\n",
      "226/227 [============================>.] - ETA: 0s - loss: 0.1779 - sparse_categorical_accuracy: 0.9385\n",
      "Epoch 13: val_loss did not improve from 0.36634\n",
      "227/227 [==============================] - 62s 272ms/step - loss: 0.1778 - sparse_categorical_accuracy: 0.9385 - val_loss: 0.4311 - val_sparse_categorical_accuracy: 0.8248\n",
      "Epoch 14/20\n",
      "227/227 [==============================] - ETA: 0s - loss: 0.1695 - sparse_categorical_accuracy: 0.9412\n",
      "Epoch 14: val_loss improved from 0.36634 to 0.36451, saving model to ./best_models/lowest_val_loss.h5\n",
      "227/227 [==============================] - 62s 274ms/step - loss: 0.1695 - sparse_categorical_accuracy: 0.9412 - val_loss: 0.3645 - val_sparse_categorical_accuracy: 0.8567\n",
      "Epoch 15/20\n",
      "227/227 [==============================] - ETA: 0s - loss: 0.1617 - sparse_categorical_accuracy: 0.9408\n",
      "Epoch 15: val_loss did not improve from 0.36451\n",
      "227/227 [==============================] - 62s 272ms/step - loss: 0.1617 - sparse_categorical_accuracy: 0.9408 - val_loss: 0.4108 - val_sparse_categorical_accuracy: 0.8294\n",
      "Epoch 16/20\n",
      "226/227 [============================>.] - ETA: 0s - loss: 0.1565 - sparse_categorical_accuracy: 0.9482\n",
      "Epoch 16: val_loss did not improve from 0.36451\n",
      "227/227 [==============================] - 62s 272ms/step - loss: 0.1564 - sparse_categorical_accuracy: 0.9483 - val_loss: 0.3900 - val_sparse_categorical_accuracy: 0.8464\n",
      "Epoch 17/20\n",
      "227/227 [==============================] - ETA: 0s - loss: 0.1420 - sparse_categorical_accuracy: 0.9540\n",
      "Epoch 17: val_loss did not improve from 0.36451\n",
      "227/227 [==============================] - 62s 273ms/step - loss: 0.1420 - sparse_categorical_accuracy: 0.9540 - val_loss: 0.3837 - val_sparse_categorical_accuracy: 0.8476\n",
      "Epoch 18/20\n",
      "227/227 [==============================] - ETA: 0s - loss: 0.1457 - sparse_categorical_accuracy: 0.9492\n",
      "Epoch 18: val_loss did not improve from 0.36451\n",
      "227/227 [==============================] - 63s 274ms/step - loss: 0.1457 - sparse_categorical_accuracy: 0.9492 - val_loss: 0.3851 - val_sparse_categorical_accuracy: 0.8430\n",
      "Epoch 19/20\n",
      "227/227 [==============================] - ETA: 0s - loss: 0.1342 - sparse_categorical_accuracy: 0.9536\n",
      "Epoch 19: val_loss did not improve from 0.36451\n",
      "227/227 [==============================] - 63s 276ms/step - loss: 0.1342 - sparse_categorical_accuracy: 0.9536 - val_loss: 0.4396 - val_sparse_categorical_accuracy: 0.8282\n",
      "Epoch 20/20\n",
      " 40/227 [====>.........................] - ETA: 38s - loss: 0.1319 - sparse_categorical_accuracy: 0.9625"
     ]
    }
   ],
   "source": [
    "history = model.fit(train, epochs=epochs, callbacks=[checkpoint, tensorboard], validation_data=val)"
   ]
  },
  {
   "cell_type": "code",
   "execution_count": 34,
   "metadata": {},
   "outputs": [
    {
     "ename": "KeyError",
     "evalue": "'sparse_categorical_accuracy'",
     "output_type": "error",
     "traceback": [
      "\u001b[0;31m---------------------------------------------------------------------------\u001b[0m",
      "\u001b[0;31mKeyError\u001b[0m                                  Traceback (most recent call last)",
      "\u001b[1;32m/Users/rikiyayamamoto/PythonProjects/cacao-research/Model Using Xception/main.ipynb Cell 23\u001b[0m in \u001b[0;36m<cell line: 1>\u001b[0;34m()\u001b[0m\n\u001b[0;32m----> <a href='vscode-notebook-cell:/Users/rikiyayamamoto/PythonProjects/cacao-research/Model%20Using%20Xception/main.ipynb#X44sZmlsZQ%3D%3D?line=0'>1</a>\u001b[0m plt\u001b[39m.\u001b[39mplot(history\u001b[39m.\u001b[39;49mhistory[\u001b[39m'\u001b[39;49m\u001b[39msparse_categorical_accuracy\u001b[39;49m\u001b[39m'\u001b[39;49m])\n\u001b[1;32m      <a href='vscode-notebook-cell:/Users/rikiyayamamoto/PythonProjects/cacao-research/Model%20Using%20Xception/main.ipynb#X44sZmlsZQ%3D%3D?line=1'>2</a>\u001b[0m plt\u001b[39m.\u001b[39mplot(history\u001b[39m.\u001b[39mhistory[\u001b[39m'\u001b[39m\u001b[39mval_sparse_categorical_accuracy\u001b[39m\u001b[39m'\u001b[39m])\n\u001b[1;32m      <a href='vscode-notebook-cell:/Users/rikiyayamamoto/PythonProjects/cacao-research/Model%20Using%20Xception/main.ipynb#X44sZmlsZQ%3D%3D?line=2'>3</a>\u001b[0m plt\u001b[39m.\u001b[39mtitle(\u001b[39m'\u001b[39m\u001b[39mmodel accuracy\u001b[39m\u001b[39m'\u001b[39m)\n",
      "\u001b[0;31mKeyError\u001b[0m: 'sparse_categorical_accuracy'"
     ]
    }
   ],
   "source": [
    "plt.plot(history.history['sparse_categorical_accuracy'])\n",
    "plt.plot(history.history['val_sparse_categorical_accuracy'])\n",
    "plt.title('model accuracy')\n",
    "plt.ylim(top=1.1)\n",
    "plt.ylim(bottom=0)\n",
    "plt.ylabel('accuracy')\n",
    "plt.xlabel('epoch')\n",
    "plt.legend(['train', 'val'], loc='upper left')\n",
    "plt.show()"
   ]
  },
  {
   "cell_type": "code",
   "execution_count": 35,
   "metadata": {},
   "outputs": [
    {
     "ename": "KeyError",
     "evalue": "'loss'",
     "output_type": "error",
     "traceback": [
      "\u001b[0;31m---------------------------------------------------------------------------\u001b[0m",
      "\u001b[0;31mKeyError\u001b[0m                                  Traceback (most recent call last)",
      "\u001b[1;32m/Users/rikiyayamamoto/PythonProjects/cacao-research/Model Using Xception/main.ipynb Cell 24\u001b[0m in \u001b[0;36m<cell line: 1>\u001b[0;34m()\u001b[0m\n\u001b[0;32m----> <a href='vscode-notebook-cell:/Users/rikiyayamamoto/PythonProjects/cacao-research/Model%20Using%20Xception/main.ipynb#X45sZmlsZQ%3D%3D?line=0'>1</a>\u001b[0m plt\u001b[39m.\u001b[39mplot(history\u001b[39m.\u001b[39;49mhistory[\u001b[39m'\u001b[39;49m\u001b[39mloss\u001b[39;49m\u001b[39m'\u001b[39;49m])\n\u001b[1;32m      <a href='vscode-notebook-cell:/Users/rikiyayamamoto/PythonProjects/cacao-research/Model%20Using%20Xception/main.ipynb#X45sZmlsZQ%3D%3D?line=1'>2</a>\u001b[0m plt\u001b[39m.\u001b[39mplot(history\u001b[39m.\u001b[39mhistory[\u001b[39m'\u001b[39m\u001b[39mval_loss\u001b[39m\u001b[39m'\u001b[39m])\n\u001b[1;32m      <a href='vscode-notebook-cell:/Users/rikiyayamamoto/PythonProjects/cacao-research/Model%20Using%20Xception/main.ipynb#X45sZmlsZQ%3D%3D?line=2'>3</a>\u001b[0m plt\u001b[39m.\u001b[39mtitle(\u001b[39m'\u001b[39m\u001b[39mmodel loss\u001b[39m\u001b[39m'\u001b[39m)\n",
      "\u001b[0;31mKeyError\u001b[0m: 'loss'"
     ]
    }
   ],
   "source": [
    "plt.plot(history.history['loss'])\n",
    "plt.plot(history.history['val_loss'])\n",
    "plt.title('model loss')\n",
    "plt.ylim(top=1.1)\n",
    "plt.ylim(bottom=0)\n",
    "plt.ylabel('loss')\n",
    "plt.xlabel('epoch')\n",
    "plt.legend(['train', 'val'], loc='upper left')\n",
    "plt.show()"
   ]
  },
  {
   "cell_type": "code",
   "execution_count": 29,
   "metadata": {},
   "outputs": [],
   "source": [
    "# Fine-tuning\n",
    "base_model.trainable = True\n",
    "\n",
    "model.compile(loss=\"sparse_categorical_crossentropy\",\n",
    "                      optimizer=tf.keras.optimizers.Adam(1e-5),\n",
    "                      metrics=[tf.metrics.SparseCategoricalAccuracy()]\n",
    "                      )\n",
    "\n",
    "history = model.fit(train, epochs=10, initial_epoch=20, callbacks=[checkpoint, tensorboard], validation_data=val)"
   ]
  },
  {
   "cell_type": "code",
   "execution_count": 151,
   "metadata": {},
   "outputs": [
    {
     "data": {
      "image/png": "[encoded data removed]",
      "text/plain": [
       "<Figure size 432x288 with 1 Axes>"
      ]
     },
     "metadata": {
      "needs_background": "light"
     },
     "output_type": "display_data"
    }
   ],
   "source": [
    "plt.plot(history.history['sparse_categorical_accuracy'])\n",
    "plt.plot(history.history['val_sparse_categorical_accuracy'])\n",
    "plt.title('model accuracy')\n",
    "plt.ylim(top=1.1)\n",
    "plt.ylim(bottom=0)\n",
    "plt.ylabel('accuracy')\n",
    "plt.xlabel('epoch')\n",
    "plt.legend(['train', 'val'], loc='upper left')\n",
    "plt.show()"
   ]
  },
  {
   "cell_type": "code",
   "execution_count": 152,
   "metadata": {},
   "outputs": [
    {
     "data": {
      "image/png": "[encoded data removed]",
      "text/plain": [
       "<Figure size 432x288 with 1 Axes>"
      ]
     },
     "metadata": {
      "needs_background": "light"
     },
     "output_type": "display_data"
    }
   ],
   "source": [
    "plt.plot(history.history['loss'])\n",
    "plt.plot(history.history['val_loss'])\n",
    "plt.title('model loss')\n",
    "plt.ylim(top=1.1)\n",
    "plt.ylim(bottom=0)\n",
    "plt.ylabel('loss')\n",
    "plt.xlabel('epoch')\n",
    "plt.legend(['train', 'val'], loc='upper left')\n",
    "plt.show()"
   ]
  },
  {
   "attachments": {},
   "cell_type": "markdown",
   "metadata": {},
   "source": [
    "# Making predictions"
   ]
  },
  {
   "cell_type": "code",
   "execution_count": 153,
   "metadata": {},
   "outputs": [],
   "source": [
    "best_model = tf.keras.models.load_model(\"./best_models/lowest_val_loss.h5\")"
   ]
  },
  {
   "cell_type": "code",
   "execution_count": 154,
   "metadata": {},
   "outputs": [
    {
     "name": "stderr",
     "output_type": "stream",
     "text": [
      "2022-12-12 00:40:37.526665: I tensorflow/core/grappler/optimizers/custom_graph_optimizer_registry.cc:113] Plugin optimizer for device_type GPU is enabled.\n"
     ]
    },
    {
     "name": "stdout",
     "output_type": "stream",
     "text": [
      "88/88 [==============================] - 23s 246ms/step\n"
     ]
    }
   ],
   "source": [
    "val_predictions = best_model.predict(val)"
   ]
  },
  {
   "cell_type": "code",
   "execution_count": 155,
   "metadata": {},
   "outputs": [],
   "source": [
    "labels = []\n",
    "for _, label in val.as_numpy_iterator():\n",
    "    for i in label:\n",
    "        labels.append(i)\n",
    "\n",
    "preds = []\n",
    "for pred in val_predictions:\n",
    "    pred_list = pred.tolist()\n",
    "    preds.append(pred_list.index(max(pred_list)))"
   ]
  },
  {
   "cell_type": "code",
   "execution_count": 156,
   "metadata": {},
   "outputs": [
    {
     "data": {
      "image/png": "[encoded data removed]",
      "text/plain": [
       "<Figure size 432x288 with 2 Axes>"
      ]
     },
     "metadata": {
      "needs_background": "light"
     },
     "output_type": "display_data"
    }
   ],
   "source": [
    "val_cm = confusion_matrix(labels, preds, labels=[0, 1, 2])\n",
    "val_axis_labels = [\"black_pod_rot\", \"healthy\", \"pod_borer\"]\n",
    "plt.title(\"validation set\", fontsize=20)\n",
    "val_ax = sns.heatmap(val_cm, cmap=\"Greens\", annot=True, xticklabels=val_axis_labels, yticklabels=val_axis_labels, fmt=\"d\")"
   ]
  },
  {
   "cell_type": "code",
   "execution_count": 157,
   "metadata": {},
   "outputs": [
    {
     "name": "stdout",
     "output_type": "stream",
     "text": [
      "              precision    recall  f1-score   support\n",
      "\n",
      "           0       0.78      0.80      0.79       189\n",
      "           1       0.94      0.91      0.93       669\n",
      "           2       0.45      0.86      0.59        21\n",
      "\n",
      "    accuracy                           0.89       879\n",
      "   macro avg       0.73      0.86      0.77       879\n",
      "weighted avg       0.90      0.89      0.89       879\n",
      "\n"
     ]
    }
   ],
   "source": [
    "print(classification_report(labels, preds, labels=[0, 1, 2]))"
   ]
  }
 ],
 "metadata": {
  "kernelspec": {
   "display_name": "Python 3.8.13 ('ml')",
   "language": "python",
   "name": "python3"
  },
  "language_info": {
   "codemirror_mode": {
    "name": "ipython",
    "version": 3
   },
   "file_extension": ".py",
   "mimetype": "text/x-python",
   "name": "python",
   "nbconvert_exporter": "python",
   "pygments_lexer": "ipython3",
   "version": "3.8.13"
  },
  "orig_nbformat": 4,
  "vscode": {
   "interpreter": {
    "hash": "9603b443fde37a4e1664ae4a5317aa318b4008599f6a47f72cea1f95321c0765"
   }
  }
 },
 "nbformat": 4,
 "nbformat_minor": 2
}
